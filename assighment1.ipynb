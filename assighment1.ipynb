{
 "cells": [
  {
   "cell_type": "markdown",
   "id": "d1852fde",
   "metadata": {},
   "source": [
    "### QUESTION 1 ###"
   ]
  },
  {
   "cell_type": "markdown",
   "id": "58a56bb1",
   "metadata": {},
   "source": [
    "Difference Between Class and Object in Python\n",
    "\n",
    "Class: A blueprint or template that defines the structure (attributes and methods) of objects.\n",
    "\n",
    "Object: An instance of a class, containing actual data.\n",
    "\n",
    "Relationship in OOP:\n",
    "\n",
    "A class defines the structure, while an object is a concrete entity created from that class.\n",
    "\n",
    "Multiple objects can be created from a single class, each with its own data."
   ]
  },
  {
   "cell_type": "code",
   "execution_count": 1,
   "id": "fddfb98a",
   "metadata": {},
   "outputs": [
    {
     "name": "stdout",
     "output_type": "stream",
     "text": [
      "this book is called dont read this book\n",
      "this is written by:- john smith\n",
      "this wa published in:- 2023\n"
     ]
    }
   ],
   "source": [
    "class Book:\n",
    "    title=\"dont read this book\"\n",
    "    author=\"john smith\"\n",
    "    year_published=2023\n",
    "bo=Book()\n",
    "print(f\"this book is called\", bo.title)\n",
    "print(\"this is written by:-\",bo.author)\n",
    "print(\"this wa published in:-\",bo.year_published)"
   ]
  },
  {
   "cell_type": "markdown",
   "id": "e7b04676",
   "metadata": {},
   "source": [
    "### QUESTION 2 ###"
   ]
  },
  {
   "cell_type": "markdown",
   "id": "cb27a6cc",
   "metadata": {},
   "source": [
    "Inheritance in Python\n",
    "\n",
    "Definition:\n",
    "\n",
    "Inheritance allows a child class (subclass) to inherit attributes and methods from a parent class (superclass). This promotes code reuse and hierarchical organization of classes.\n",
    "\n",
    "**Key Benefits**\n",
    "\n",
    "Avoids Duplication: Common methods and attributes are defined once in the parent class.\n",
    "\n",
    "Extensibility: Child classes can add new features without modifying the parent.\n",
    "\n",
    "Polymorphism: Different subclasses can override parent methods for custom behavior.\n",
    "\n",
    "**Potential Pitfalls**\n",
    "\n",
    "\n",
    "Tight Coupling: Overuse of inheritance can make code hard to modify (changes in parent affect all children).\n",
    "\n",
    "Complex Hierarchies: Deep inheritance chains can become hard to debug.\n",
    "\n",
    "Inheritance Overuse: Sometimes composition (using objects as attributes) is better than inheritance."
   ]
  },
  {
   "cell_type": "code",
   "execution_count": 2,
   "id": "2f68db6c",
   "metadata": {},
   "outputs": [
    {
     "name": "stdout",
     "output_type": "stream",
     "text": [
      "vehicle is moving\n",
      "car is moving\n",
      "bike is moving\n"
     ]
    }
   ],
   "source": [
    "class Vehicle:\n",
    "    def move(self):\n",
    "        print(\"vehicle is moving\")\n",
    "\n",
    "class Car(Vehicle):\n",
    "    def move(self):\n",
    "        print(\"car is moving\")\n",
    "    \n",
    "class Bike(Vehicle):\n",
    "    def move(self):\n",
    "        print(\"bike is moving\")\n",
    "    \n",
    "v=Vehicle()\n",
    "c=Car()\n",
    "b=Bike()\n",
    "\n",
    "\n",
    "v.move()\n",
    "c.move()\n",
    "b.move()\n"
   ]
  },
  {
   "cell_type": "markdown",
   "id": "f6f14e81",
   "metadata": {},
   "source": [
    "### QUESTION 3 ###"
   ]
  },
  {
   "cell_type": "markdown",
   "id": "14f76b60",
   "metadata": {},
   "source": [
    "Polymorphism in Python\n",
    "\n",
    "Polymorphism is a core concept in object-oriented programming (OOP) that allows objects of different classes to be treated as objects of a common superclass. It means \"many forms\" - the ability of a single function or method to work with different types of objects.\n",
    "\n",
    "Types of Polymorphism in Python\n",
    "\n",
    "Python implements polymorphism primarily through:\n",
    "\n",
    "Method overriding (runtime polymorphism)\n",
    "\n",
    "Duck typing (Python's approach to polymorphism)\n",
    "\n",
    "Operator overloading"
   ]
  },
  {
   "cell_type": "code",
   "execution_count": 5,
   "id": "34089084",
   "metadata": {},
   "outputs": [
    {
     "name": "stdout",
     "output_type": "stream",
     "text": [
      "Boat is sailing on water\n",
      "Airplane is flying in the sky\n",
      "Car is driving on the road\n",
      "Bicycle is pedaling on the path\n"
     ]
    }
   ],
   "source": [
    "def move_vehicle(vehicle):\n",
    "  \n",
    "    vehicle.move()\n",
    "\n",
    "class Boat:\n",
    "    def move(self):\n",
    "        print(\"Boat is sailing on water\")\n",
    "\n",
    "class Airplane:\n",
    "    def move(self):\n",
    "        print(\"Airplane is flying in the sky\")\n",
    "\n",
    "class Car:\n",
    "    def move(self):\n",
    "        print(\"Car is driving on the road\")\n",
    "\n",
    "class Bicycle:\n",
    "    def move(self):\n",
    "        print(\"Bicycle is pedaling on the path\")\n",
    "\n",
    "\n",
    "boat = Boat()\n",
    "airplane = Airplane()\n",
    "car = Car()\n",
    "bike = Bicycle()\n",
    "\n",
    "\n",
    "move_vehicle(boat)      \n",
    "move_vehicle(airplane) \n",
    "move_vehicle(car)       \n",
    "move_vehicle(bike)      "
   ]
  },
  {
   "cell_type": "markdown",
   "id": "49c3eb94",
   "metadata": {},
   "source": [
    "### QUESTION 4 ###"
   ]
  },
  {
   "cell_type": "markdown",
   "id": "cd23d59f",
   "metadata": {},
   "source": [
    "Class Methods and Static Methods in Python\n",
    "\n",
    "\n",
    "Understanding Method Types\n",
    "\n",
    "   \n",
    "In Python, there are three types of methods in a class:\n",
    "\n",
    "1. Instance Methods\n",
    "\n",
    "\n",
    "First Parameter: self (current instance)\n",
    "\n",
    "Access: Can access and modify instance attributes and other instance methods\n",
    "\n",
    "Usage: Operate on instance-specific data\n",
    "\n",
    "Calling: Requires an instance to be called (obj.method())\n",
    "\n",
    "Decorator: None (default method type)\n",
    "\n",
    "2. Class Methods\n",
    "\n",
    "\n",
    "First Parameter: cls (current class)\n",
    "\n",
    "Access: Can access and modify class-level attributes but not instance attributes (unless an instance is created)\n",
    "\n",
    "Usage: Often used as alternative constructors (factory methods)\n",
    "\n",
    "Calling: Can be called on the class itself (Class.method()) or an instance\n",
    "\n",
    "Decorator: @classmethod\n",
    "\n",
    "3. Static Methods\n",
    "\n",
    "\n",
    "First Parameter: None (no self or cls)\n",
    "\n",
    "Access: Cannot access instance or class attributes (unless passed explicitly)\n",
    "\n",
    "Usage: Act like regular functions but belong to the class namespace (for logical grouping)\n",
    "\n",
    "Calling: Can be called on the class (Class.method()) or an instance\n",
    "\n",
    "Decorator: @staticmethod\n"
   ]
  },
  {
   "cell_type": "code",
   "execution_count": 6,
   "id": "225da8a2",
   "metadata": {},
   "outputs": [
    {
     "name": "stdout",
     "output_type": "stream",
     "text": [
      "15\n",
      "24\n",
      "16\n",
      "21\n"
     ]
    }
   ],
   "source": [
    "class Calculator:\n",
    "    def __init__(self, a, b):\n",
    "        self.a = a\n",
    "        self.b = b\n",
    "    \n",
    "    @staticmethod\n",
    "    def multiply(a, b):\n",
    "       \n",
    "        return a * b\n",
    "    \n",
    "    @classmethod\n",
    "    def from_values(cls, values):\n",
    "        \n",
    "        if len(values) != 2:\n",
    "            raise ValueError(\"Input list must contain exactly 2 values\")\n",
    "        instance = cls(values[0], values[1]) \n",
    "        return instance.multiply(instance.a, instance.b)\n",
    "    \n",
    "    \n",
    "    def instance_multiply(self):\n",
    "        \n",
    "        return self.a * self.b\n",
    "\n",
    "\n",
    "print(Calculator.multiply(5, 3))  \n",
    "\n",
    "values = [4, 6]\n",
    "print(Calculator.from_values(values)) \n",
    "\n",
    "\n",
    "calc = Calculator(2, 8)\n",
    "print(calc.instance_multiply())  \n",
    "print(calc.multiply(3, 7))     "
   ]
  },
  {
   "cell_type": "markdown",
   "id": "2d6f5d99",
   "metadata": {},
   "source": [
    "### QUESTION 5 ###"
   ]
  },
  {
   "cell_type": "markdown",
   "id": "1c3bb88b",
   "metadata": {},
   "source": [
    "**Encapsulation in Python**\n",
    "\n",
    "\n",
    "Encapsulation is one of the fundamental principles of object-oriented programming (OOP) that bundles data (attributes) and methods that operate on that data within a single unit (class), while restricting direct access to some of the object's components.\n",
    "\n",
    "**How Python Supports Encapsulation**\n",
    "\n",
    "\n",
    "\n",
    "Python implements encapsulation through naming conventions for attributes and methods:\n",
    "\n",
    "Public Members: No prefix (default)\n",
    "\n",
    "Accessible from anywhere\n",
    "\n",
    "Example: self.name\n",
    "\n",
    "Protected Members: Single underscore prefix (_)\n",
    "\n",
    "Conventionally indicates \"internal use only\"\n",
    "\n",
    "Still accessible from outside, but considered private API\n",
    "\n",
    "Example: self._age\n",
    "\n",
    "Private Members: Double underscore prefix (__)\n",
    "\n",
    "Triggers name mangling to make access harder\n",
    "\n",
    "Not truly private, but strongly discouraged from external access\n",
    "\n",
    "Example: self.__salary"
   ]
  },
  {
   "cell_type": "code",
   "execution_count": 8,
   "id": "8b1b6165",
   "metadata": {},
   "outputs": [
    {
     "name": "stdout",
     "output_type": "stream",
     "text": [
      "mariyam\n",
      "19\n",
      "Error: 'Person' object has no attribute '__name'\n",
      "Happy Birthday! Now you are 20 years old.\n"
     ]
    }
   ],
   "source": [
    "class Person:\n",
    "    def __init__(self, name, age):\n",
    "        self.__name = name  \n",
    "        self.__age = age    \n",
    "    \n",
    "    def get_name(self):\n",
    "        return self.__name\n",
    "    \n",
    "    def get_age(self):\n",
    "        return self.__age\n",
    "    \n",
    "    \n",
    "    def set_name(self, name):\n",
    "        if isinstance(name, str) and name.strip():\n",
    "            self.__name = name.strip()\n",
    "        else:\n",
    "            raise ValueError(\"Name must be a non-empty string\")\n",
    "    \n",
    "    def set_age(self, age):\n",
    "        if isinstance(age, int) and 0 <= age <= 120:\n",
    "            self.__age = age\n",
    "        else:\n",
    "            raise ValueError(\"Age must be an integer between 0 and 120\")\n",
    "    \n",
    "   \n",
    "    def celebrate_birthday(self):\n",
    "        self.__age += 1\n",
    "        return f\"Happy Birthday! Now you are {self.__age} years old.\"\n",
    "\n",
    "\n",
    "person = Person(\"mariyam\", 19)\n",
    "\n",
    "\n",
    "print(person.get_name())  \n",
    "print(person.get_age())   \n",
    "\n",
    "\n",
    "person.set_name(\"mariyam perveen\")\n",
    "person.set_age(19)\n",
    "\n",
    "\n",
    "try:\n",
    "    print(person.__name)  \n",
    "except AttributeError as e:\n",
    "    print(f\"Error: {e}\")  \n",
    "\n",
    "\n",
    "print(person.celebrate_birthday())  "
   ]
  },
  {
   "cell_type": "markdown",
   "id": "a0d0db20",
   "metadata": {},
   "source": [
    "### QUESTION 6 ####"
   ]
  },
  {
   "cell_type": "markdown",
   "id": "4fb9fd43",
   "metadata": {},
   "source": [
    "**Understanding __init__ in Python Classes**\n",
    "\n",
    "\n",
    "The __init__ method is a special method in Python classes that gets called automatically when you create a new instance of a class. It's used to initialize the object's attributes (its initial state).\n",
    "\n",
    "**Key Differences from Other Methods:**\n",
    "\n",
    "\n",
    "Automatic calling: __init__ runs automatically when you create an object\n",
    "\n",
    "Special name: It uses double underscores (called \"dunder\")\n",
    "\n",
    "Initialization purpose: It's meant for setting up the object, not for regular operations"
   ]
  },
  {
   "cell_type": "code",
   "execution_count": 9,
   "id": "bc2c4ad9",
   "metadata": {},
   "outputs": [
    {
     "name": "stdout",
     "output_type": "stream",
     "text": [
      "Product: Laptop, Price: $999.99\n"
     ]
    }
   ],
   "source": [
    "\n",
    "class Product:\n",
    "   \n",
    "    def __init__(self, name, price):\n",
    "       \n",
    "        self.name = name   \n",
    "        self.price = price \n",
    "    \n",
    "   \n",
    "    def display_details(self):\n",
    "        print(f\"Product: {self.name}, Price: ${self.price:.2f}\")\n",
    "\n",
    "\n",
    "my_product = Product(\"Laptop\", 999.99)\n",
    "\n",
    "\n",
    "my_product.display_details()"
   ]
  },
  {
   "cell_type": "markdown",
   "id": "721b18fe",
   "metadata": {},
   "source": [
    "### QUESTION  7 ###"
   ]
  },
  {
   "cell_type": "markdown",
   "id": "9f142af3",
   "metadata": {},
   "source": [
    "**Multiple Inheritance & Method Resolution Order (MRO) in Python**\n",
    "\n",
    "**Multiple Inheritance**\n",
    "\n",
    "Python allows a class to inherit from multiple parent classes\n",
    "\n",
    "Child class gets all attributes and methods from all parents\n",
    "\n",
    "**Method Resolution Order (MRO)**\n",
    "\n",
    "\n",
    "Determines which parent class's method gets called when there are naming conflicts\n",
    "\n",
    "Python uses the C3 linearization algorithm to determine MRO\n",
    "\n",
    "You can check MRO with ClassName.__mro__ or ClassName.mro()"
   ]
  },
  {
   "cell_type": "code",
   "execution_count": 10,
   "id": "b30f4ed5",
   "metadata": {},
   "outputs": [
    {
     "name": "stdout",
     "output_type": "stream",
     "text": [
      "(<class '__main__.SmartFridge'>, <class '__main__.Appliance'>, <class '__main__.Electronic'>, <class 'object'>)\n",
      "SmartFridge is cooling\n",
      "Appliance is running\n"
     ]
    }
   ],
   "source": [
    "class Appliance:\n",
    "    def operate(self):\n",
    "        print(\"Appliance is running\")\n",
    "\n",
    "class Electronic:\n",
    "    def operate(self):\n",
    "        print(\"Electronic is powered on\")\n",
    "\n",
    "class SmartFridge(Appliance, Electronic):\n",
    "    def operate(self):\n",
    "        print(\"SmartFridge is cooling\")\n",
    "        super().operate()  \n",
    "\n",
    "\n",
    "print(SmartFridge.__mro__)\n",
    "\n",
    "fridge = SmartFridge()\n",
    "fridge.operate()"
   ]
  },
  {
   "cell_type": "markdown",
   "id": "e7c9fd59",
   "metadata": {},
   "source": [
    "### QUESTION 8 ###\n"
   ]
  },
  {
   "cell_type": "markdown",
   "id": "45564bdb",
   "metadata": {},
   "source": [
    "**Special (Magic) Methods in Python -**\n",
    "\n",
    "\n",
    "Magic methods (also called dunder methods because they have double underscores like __init__) are special Python methods that let you customize how objects behave. They are automatically called by Python in certain situations, such as:\n",
    "\n",
    "Creating an object → __init__\n",
    "\n",
    "Printing an object → __str__\n",
    "\n",
    "Comparing objects → __eq__, __lt__, etc.\n",
    "\n",
    "Arithmetic operations → __add__, __sub__, etc.\n",
    "\n",
    "Getting the length of an object → __len__\n",
    "\n",
    "Why Are Magic Methods Useful?\n",
    "\n",
    "\n",
    "\n",
    "They allow you to:\n",
    "✔ Define how objects should behave in different situations\n",
    "✔ Make your classes work like built-in Python types (e.g., list, dict)\n",
    "✔ Enable operations like +, -, ==, <, and more\n",
    "\n"
   ]
  },
  {
   "cell_type": "code",
   "execution_count": 11,
   "id": "777556b5",
   "metadata": {},
   "outputs": [
    {
     "name": "stdout",
     "output_type": "stream",
     "text": [
      "True\n",
      "True\n",
      "True\n",
      "[Book('Python Basics', 2020), Book('Python for Beginners', 2020), Book('Advanced Python', 2022)]\n"
     ]
    }
   ],
   "source": [
    "class Book:\n",
    "    def __init__(self, title, year_published):\n",
    "        self.title = title\n",
    "        self.year_published = year_published\n",
    "    \n",
    "    \n",
    "    def __eq__(self, other):\n",
    "        return self.year_published == other.year_published\n",
    "    \n",
    "    \n",
    "    def __lt__(self, other):\n",
    "        return self.year_published < other.year_published\n",
    "    \n",
    "   \n",
    "    def __repr__(self):\n",
    "        return f\"Book('{self.title}', {self.year_published})\"\n",
    "\n",
    "\n",
    "book1 = Book(\"Python Basics\", 2020)\n",
    "book2 = Book(\"Advanced Python\", 2022)\n",
    "book3 = Book(\"Python for Beginners\", 2020)\n",
    "\n",
    "\n",
    "print(book1 == book3) \n",
    "print(book1 < book2)   \n",
    "print(book2 > book3)   \n",
    "\n",
    "\n",
    "books = [book2, book1, book3]\n",
    "print(sorted(books))  "
   ]
  },
  {
   "cell_type": "markdown",
   "id": "0a04e395",
   "metadata": {},
   "source": [
    "### QUESTION 9 ###"
   ]
  },
  {
   "cell_type": "markdown",
   "id": "1a7b2ddc",
   "metadata": {},
   "source": [
    "**Composition vs Inheritance in OOP**\n",
    "\n",
    "**Key Differences**\n",
    "\n",
    "Inheritance creates an \"is-a\" relationship where a child class inherits from a parent class (e.g., a Dog is an Animal). It allows code reuse through direct inheritance of properties and methods.\n",
    "\n",
    "Composition creates a \"has-a\" relationship where one class contains an instance of another class (e.g., a Car has an Engine). It enables code reuse by combining objects rather than inheriting from them.\n",
    "\n",
    "**When to Use Composition Over Inheritance**\n",
    "\n",
    "\n",
    "When you need to reuse code but there's no logical \"is-a\" relationship\n",
    "\n",
    "When you want to change behavior at runtime (composition is more flexible)\n",
    "\n",
    "To avoid the fragile base class problem (changes in parent classes can break child classes)\n",
    "\n",
    "When you need functionality from multiple sources (Java-style multiple inheritance)\n",
    "\n",
    "When the relationship is better expressed as \"has-a\" rather than \"is-a\"\n",
    "\n"
   ]
  },
  {
   "cell_type": "code",
   "execution_count": 12,
   "id": "1a3c7242",
   "metadata": {},
   "outputs": [
    {
     "name": "stdout",
     "output_type": "stream",
     "text": [
      "I'm a red vehicle\n",
      "Beep beep!\n"
     ]
    }
   ],
   "source": [
    "# Inheritance - \"A Car is a Vehicle\"\n",
    "class Vehicle:\n",
    "    def __init__(self, color):\n",
    "        self.color = color\n",
    "    \n",
    "    def describe(self):\n",
    "        print(f\"I'm a {self.color} vehicle\")\n",
    "\n",
    "class Car(Vehicle): \n",
    "    def honk(self):\n",
    "        print(\"Beep beep!\")\n",
    "\n",
    "\n",
    "my_car = Car(\"red\")\n",
    "my_car.describe()  \n",
    "my_car.honk()     "
   ]
  },
  {
   "cell_type": "code",
   "execution_count": 13,
   "id": "73b3b5b8",
   "metadata": {},
   "outputs": [
    {
     "name": "stdout",
     "output_type": "stream",
     "text": [
      "My blue car is driving\n",
      "Vroom!\n"
     ]
    }
   ],
   "source": [
    "# Composition - \"A Car has an Engine\"\n",
    "class Engine:\n",
    "    def __init__(self, size):\n",
    "        self.size = size\n",
    "    \n",
    "    def start(self):\n",
    "        print(\"Vroom!\")\n",
    "\n",
    "class Car:\n",
    "    def __init__(self, color, engine_size):\n",
    "        self.color = color\n",
    "        self.engine = Engine(engine_size)  \n",
    "    \n",
    "    def drive(self):\n",
    "        print(f\"My {self.color} car is driving\")\n",
    "        self.engine.start()\n",
    "\n",
    "\n",
    "my_car = Car(\"blue\", \"2.0L\")\n",
    "my_car.drive()"
   ]
  },
  {
   "cell_type": "markdown",
   "id": "618a8b32",
   "metadata": {},
   "source": [
    "### QUESTION 10 ###"
   ]
  },
  {
   "cell_type": "markdown",
   "id": "3dd39421",
   "metadata": {},
   "source": [
    "**Property Decorators in Python**\n",
    "\n",
    "**Purpose of @property**\n",
    "\n",
    "\n",
    "The @property decorator allows you to define methods that can be accessed like attributes, while maintaining control over how they're accessed and modified. It contributes to encapsulation by:\n",
    "\n",
    "Controlled access: You can add validation or calculations when getting/setting values\n",
    "\n",
    "Backward compatibility: Change internal implementation without breaking existing code\n",
    "\n",
    "Readability: Makes code cleaner by hiding method calls behind attribute-like access\n",
    "\n",
    "Immutability: Can create read-only properties\n",
    "\n",
    "**How It Works**\n",
    "\n",
    "@property - defines a getter method\n",
    "\n",
    "@attribute.setter - defines a setter method\n",
    "\n",
    "@attribute.deleter - defines a deleter method"
   ]
  },
  {
   "cell_type": "code",
   "execution_count": 14,
   "id": "38654e2b",
   "metadata": {},
   "outputs": [
    {
     "name": "stdout",
     "output_type": "stream",
     "text": [
      "Radius: 5\n",
      "Diameter: 10\n",
      "Area: 78.54\n",
      "Radius must be positive.\n"
     ]
    }
   ],
   "source": [
    "import math\n",
    "\n",
    "class Circle:\n",
    "    def __init__(self, radius):\n",
    "        self.radius = radius  \n",
    "\n",
    "    @property\n",
    "    def radius(self):\n",
    "        return self._radius \n",
    "\n",
    "    @radius.setter\n",
    "    def radius(self, value):\n",
    "        if value <= 0:\n",
    "            raise ValueError(\"Radius must be positive.\")\n",
    "        self._radius = value\n",
    "\n",
    "    @property\n",
    "    def diameter(self):\n",
    "        return 2 * self.radius \n",
    "\n",
    "    @property\n",
    "    def area(self):\n",
    "        return math.pi * self.radius ** 2  \n",
    "\n",
    "circle = Circle(5)\n",
    "print(f\"Radius: {circle.radius}\")       \n",
    "print(f\"Diameter: {circle.diameter}\")   \n",
    "print(f\"Area: {circle.area:.2f}\")       \n",
    "\n",
    "\n",
    "try:\n",
    "    circle.radius = -2 \n",
    "except ValueError as e:\n",
    "    print(e) "
   ]
  }
 ],
 "metadata": {
  "kernelspec": {
   "display_name": "Python 3",
   "language": "python",
   "name": "python3"
  },
  "language_info": {
   "codemirror_mode": {
    "name": "ipython",
    "version": 3
   },
   "file_extension": ".py",
   "mimetype": "text/x-python",
   "name": "python",
   "nbconvert_exporter": "python",
   "pygments_lexer": "ipython3",
   "version": "3.13.3"
  }
 },
 "nbformat": 4,
 "nbformat_minor": 5
}
